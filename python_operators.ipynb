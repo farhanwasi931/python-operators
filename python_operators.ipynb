{
 "cells": [
  {
   "cell_type": "code",
   "execution_count": 1,
   "id": "158f43bc-b513-44d8-bd66-df5b96f31bcd",
   "metadata": {},
   "outputs": [],
   "source": [
    "#Question 1\n"
   ]
  },
  {
   "cell_type": "code",
   "execution_count": 2,
   "id": "374f55c6-a390-40e3-b532-c95d105c161a",
   "metadata": {},
   "outputs": [],
   "source": [
    "num1 = 10\n",
    "num2 = 30"
   ]
  },
  {
   "cell_type": "code",
   "execution_count": 3,
   "id": "a5d7aad6-4dde-4600-a60a-df7e01614514",
   "metadata": {},
   "outputs": [
    {
     "data": {
      "text/plain": [
       "40"
      ]
     },
     "execution_count": 3,
     "metadata": {},
     "output_type": "execute_result"
    }
   ],
   "source": [
    "num1+num2"
   ]
  },
  {
   "cell_type": "code",
   "execution_count": 4,
   "id": "3ea323dc-d557-42e1-8550-37848de58940",
   "metadata": {},
   "outputs": [
    {
     "data": {
      "text/plain": [
       "-20"
      ]
     },
     "execution_count": 4,
     "metadata": {},
     "output_type": "execute_result"
    }
   ],
   "source": [
    "num1-num2"
   ]
  },
  {
   "cell_type": "code",
   "execution_count": 5,
   "id": "42e181b4-b454-4800-8515-02387790d579",
   "metadata": {},
   "outputs": [
    {
     "data": {
      "text/plain": [
       "0.3333333333333333"
      ]
     },
     "execution_count": 5,
     "metadata": {},
     "output_type": "execute_result"
    }
   ],
   "source": [
    "num1/num2"
   ]
  },
  {
   "cell_type": "code",
   "execution_count": 6,
   "id": "4f7e7684-6445-4ec5-92a1-61f861827b76",
   "metadata": {},
   "outputs": [
    {
     "data": {
      "text/plain": [
       "300"
      ]
     },
     "execution_count": 6,
     "metadata": {},
     "output_type": "execute_result"
    }
   ],
   "source": [
    "num1*num2"
   ]
  },
  {
   "cell_type": "code",
   "execution_count": 7,
   "id": "2430c7cf-8a20-4b52-8823-70008eae52a7",
   "metadata": {},
   "outputs": [],
   "source": [
    "#Question 2"
   ]
  },
  {
   "cell_type": "code",
   "execution_count": 8,
   "id": "621aff58-9c1e-4123-b2d8-7e29ab829ee1",
   "metadata": {},
   "outputs": [],
   "source": [
    "num1+=num2"
   ]
  },
  {
   "cell_type": "code",
   "execution_count": 9,
   "id": "5e55dbee-ca16-4119-a5ef-0bb8dffcf70d",
   "metadata": {},
   "outputs": [
    {
     "data": {
      "text/plain": [
       "40"
      ]
     },
     "execution_count": 9,
     "metadata": {},
     "output_type": "execute_result"
    }
   ],
   "source": [
    "num1"
   ]
  },
  {
   "cell_type": "code",
   "execution_count": 10,
   "id": "b872aada-8027-4b53-ba88-2249399f850d",
   "metadata": {},
   "outputs": [],
   "source": [
    "num1/=num2"
   ]
  },
  {
   "cell_type": "code",
   "execution_count": 11,
   "id": "65802f6d-fd44-4660-b521-efbd27d93f12",
   "metadata": {},
   "outputs": [
    {
     "data": {
      "text/plain": [
       "1.3333333333333333"
      ]
     },
     "execution_count": 11,
     "metadata": {},
     "output_type": "execute_result"
    }
   ],
   "source": [
    "num1"
   ]
  },
  {
   "cell_type": "code",
   "execution_count": 12,
   "id": "fa487c61-1d88-4895-979e-cafcb4f9a147",
   "metadata": {},
   "outputs": [],
   "source": [
    "#question 3\n"
   ]
  },
  {
   "cell_type": "code",
   "execution_count": 13,
   "id": "7f5f2a1f-ba5a-420a-9b66-aa4667e3a988",
   "metadata": {},
   "outputs": [],
   "source": [
    "compare1= 100\n",
    "compare2=100"
   ]
  },
  {
   "cell_type": "code",
   "execution_count": 15,
   "id": "951d8011-8234-4fed-8ea4-b974b28cf53e",
   "metadata": {},
   "outputs": [
    {
     "data": {
      "text/plain": [
       "True"
      ]
     },
     "execution_count": 15,
     "metadata": {},
     "output_type": "execute_result"
    }
   ],
   "source": [
    "compare1==compare2"
   ]
  },
  {
   "cell_type": "code",
   "execution_count": 24,
   "id": "0dac3939-a23c-401a-a232-08918b52593c",
   "metadata": {},
   "outputs": [],
   "source": [
    "#Question 5"
   ]
  },
  {
   "cell_type": "code",
   "execution_count": 23,
   "id": "b15a0eed-773c-4a26-a238-a5b69e33aaea",
   "metadata": {},
   "outputs": [],
   "source": [
    "x = True\n",
    "y = False"
   ]
  },
  {
   "cell_type": "code",
   "execution_count": 18,
   "id": "d6142e43-e9b0-46a7-9237-2fe518190286",
   "metadata": {},
   "outputs": [
    {
     "name": "stdout",
     "output_type": "stream",
     "text": [
      "AND operator result =  False\n",
      "OR operator result =  True\n",
      "NOT operator result =  True\n"
     ]
    }
   ],
   "source": [
    "print(\"AND operator result = \", x and y)\n",
    "print(\"OR operator result = \", x or y)\n",
    "print(\"NOT operator result = \" ,  not y)"
   ]
  },
  {
   "cell_type": "code",
   "execution_count": 19,
   "id": "b768de1b-76f1-4c8d-8f3c-ba374e9aa6dc",
   "metadata": {},
   "outputs": [],
   "source": [
    "iden_1= 20\n",
    "iden_2 = 30\n",
    "   "
   ]
  },
  {
   "cell_type": "code",
   "execution_count": 20,
   "id": "a185d1c6-78f6-465a-9c9c-b493e91c5657",
   "metadata": {},
   "outputs": [
    {
     "name": "stdout",
     "output_type": "stream",
     "text": [
      "The id of 1 =  140713967811608\n",
      "The id of 2 =  140713967811928\n"
     ]
    }
   ],
   "source": [
    "print(\"The id of 1 = \", id(iden_1))\n",
    "print(\"The id of 2 = \", id(iden_2))"
   ]
  },
  {
   "cell_type": "code",
   "execution_count": 21,
   "id": "43815c9e-4bba-47b6-8a39-60061d4b6b5b",
   "metadata": {},
   "outputs": [
    {
     "name": "stdout",
     "output_type": "stream",
     "text": [
      "Both the id value is same\n"
     ]
    }
   ],
   "source": [
    "#What if both the value is same then the id is\n",
    "#iden_1 = 20\n",
    "iden_2= 20\n",
    "if(id(iden_1) == id(iden_2)):\n",
    "  print(\"Both the id value is same\")\n",
    "else:\n",
    "  print(\"The id value is different\")\n",
    "     "
   ]
  },
  {
   "cell_type": "code",
   "execution_count": 25,
   "id": "4134a0c0-e79b-4502-bef4-eb0d015b9b3b",
   "metadata": {},
   "outputs": [],
   "source": [
    "#Question 6"
   ]
  },
  {
   "cell_type": "code",
   "execution_count": 26,
   "id": "e4e7394c-68ee-4961-819c-2c68755fe55e",
   "metadata": {},
   "outputs": [],
   "source": [
    "a=10\n",
    "b=5\n"
   ]
  },
  {
   "cell_type": "code",
   "execution_count": 27,
   "id": "58a690d5-b846-43b0-a08d-592dffdde989",
   "metadata": {},
   "outputs": [
    {
     "name": "stdout",
     "output_type": "stream",
     "text": [
      "the bitwise OR is =  15\n",
      "the bitwise AND is =  0\n",
      "the bitwise NOT is =  -11\n",
      "the bitwise XOR is =  15\n",
      "the left shift is =  20\n",
      "the right shift is =  5\n"
     ]
    }
   ],
   "source": [
    "print(\"the bitwise OR is = \" , a | b)\n",
    "print(\"the bitwise AND is = \", a & b)\n",
    "print(\"the bitwise NOT is = \", ~a)\n",
    "print(\"the bitwise XOR is = \", a^b)\n",
    "print(\"the left shift is = \", a<<1)\n",
    "print(\"the right shift is = \", a>>1)\n",
    "     \n"
   ]
  },
  {
   "cell_type": "code",
   "execution_count": 28,
   "id": "35815714-5f27-43fa-a94a-de844b59e243",
   "metadata": {},
   "outputs": [],
   "source": [
    "#Question 7"
   ]
  },
  {
   "cell_type": "code",
   "execution_count": 29,
   "id": "7a0d999f-f2d2-4cba-b823-c732a72fcfe6",
   "metadata": {},
   "outputs": [],
   "source": [
    "c = 20\n",
    "b= -c"
   ]
  },
  {
   "cell_type": "code",
   "execution_count": null,
   "id": "c3472bea-6d1d-4c2b-abfa-e3669dd12754",
   "metadata": {},
   "outputs": [],
   "source": [
    "b"
   ]
  }
 ],
 "metadata": {
  "kernelspec": {
   "display_name": "Python 3 (ipykernel)",
   "language": "python",
   "name": "python3"
  },
  "language_info": {
   "codemirror_mode": {
    "name": "ipython",
    "version": 3
   },
   "file_extension": ".py",
   "mimetype": "text/x-python",
   "name": "python",
   "nbconvert_exporter": "python",
   "pygments_lexer": "ipython3",
   "version": "3.12.4"
  }
 },
 "nbformat": 4,
 "nbformat_minor": 5
}
